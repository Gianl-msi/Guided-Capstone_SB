{
 "cells": [
  {
   "cell_type": "markdown",
   "metadata": {
    "colab_type": "text",
    "id": "cf5CmXQCZyF1"
   },
   "source": [
    "# Guided Capstone Step 6. Documentation"
   ]
  },
  {
   "cell_type": "markdown",
   "metadata": {
    "colab_type": "text",
    "id": "JbZXsVevfr9M"
   },
   "source": [
    "**The Data Science Method**  \n",
    "\n",
    "\n",
    "1.   Problem Identification \n",
    "\n",
    "2.   Data Wrangling \n",
    "  \n",
    "3.   Exploratory Data Analysis \n",
    " \n",
    "4.   Pre-processing and Training Data Development\n",
    "\n",
    "5.  Modeling\n",
    "\n",
    "6.   **Documentation**\n",
    "  * Review the Results\n",
    "  * Finalize Code \n",
    "  * Finalize Documentation\n",
    "  * Create a Project Report \n",
    "  * Create a Slide Deck for the Executive Audience"
   ]
  },
  {
   "cell_type": "markdown",
   "metadata": {
    "colab_type": "text",
    "id": "D-oGciwnGUYk"
   },
   "source": [
    "In this guided capstone we are going to revisit many of the actions we took in the previous guided capstone steps. This gives you the opportunity to practice the code you wrote to solve the questions in step 4 and 5. "
   ]
  },
  {
   "cell_type": "markdown",
   "metadata": {
    "colab_type": "text",
    "id": "K8xfkAqqZyF2"
   },
   "source": [
    "**<font color='teal'> Start by loading the necessary packages and printing out our current working directory just to confirm we are in the correct project directory. </font>**"
   ]
  },
  {
   "cell_type": "code",
   "execution_count": 3,
   "metadata": {
    "colab": {},
    "colab_type": "code",
    "id": "ry6WPL5eZyF3"
   },
   "outputs": [
    {
     "data": {
      "text/plain": [
       "'C:\\\\Users\\\\gianl'"
      ]
     },
     "execution_count": 3,
     "metadata": {},
     "output_type": "execute_result"
    }
   ],
   "source": [
    "import pandas as pd\n",
    "import matplotlib.pyplot as plt\n",
    "import os\n",
    "import numpy as np\n",
    "%matplotlib inline\n",
    "\n",
    "os.getcwd()"
   ]
  },
  {
   "cell_type": "markdown",
   "metadata": {
    "colab_type": "text",
    "id": "0HTP9cF2GUYs"
   },
   "source": [
    "## Fit Models with Training Dataset"
   ]
  },
  {
   "cell_type": "markdown",
   "metadata": {
    "colab_type": "text",
    "id": "A2FmSbtCGUYt"
   },
   "source": [
    "**<font color='teal'> Using sklearn fit the model you chose in Guided Capstone 5 on your training dataset. This includes: creating dummy features for states if you need them, scaling the data,and creating train and test splits before fitting the chosen model.Also, remember to generate a model performance score(MAE, or explained variance) based on the testing hold-out data set.</font>**"
   ]
  },
  {
   "cell_type": "markdown",
   "metadata": {
    "colab_type": "text",
    "id": "ReRSy1yFGUYu"
   },
   "source": [
    "### Best Model "
   ]
  },
  {
   "cell_type": "markdown",
   "metadata": {},
   "source": [
    "# Predict  AdultWeekend price "
   ]
  },
  {
   "cell_type": "code",
   "execution_count": 4,
   "metadata": {
    "colab": {},
    "colab_type": "code",
    "id": "YRhPGbqPGUYv"
   },
   "outputs": [],
   "source": [
    "from sklearn.model_selection import train_test_split\n",
    "from sklearn.preprocessing import StandardScaler\n",
    "from sklearn import linear_model\n",
    "from sklearn.metrics import mean_absolute_error, explained_variance_score"
   ]
  },
  {
   "cell_type": "code",
   "execution_count": 5,
   "metadata": {},
   "outputs": [],
   "source": [
    "data_ski_3= pd.read_csv('C:\\\\Users\\\\gianl\\\\data\\\\step3_output_V2_outliners_included.csv')\n",
    "x = data_ski_3.drop(['Name','AdultWeekend', 'state', 'summit_elev'], axis =1)\n",
    "y = data_ski_3['AdultWeekend']"
   ]
  },
  {
   "cell_type": "code",
   "execution_count": 6,
   "metadata": {},
   "outputs": [
    {
     "name": "stdout",
     "output_type": "stream",
     "text": [
      "Index(['Name', 'state', 'summit_elev', 'vertical_drop', 'trams', 'fastEight',\n",
      "       'fastSixes', 'fastQuads', 'quad', 'triple', 'double', 'surface',\n",
      "       'total_chairs', 'Runs', 'TerrainParks', 'LongestRun_mi',\n",
      "       'SkiableTerrain_ac', 'Snow Making_ac', 'daysOpenLastYear', 'yearsOpen',\n",
      "       'averageSnowfall', 'AdultWeekday', 'AdultWeekend', 'projectedDaysOpen',\n",
      "       'NightSkiing_ac', 'clusters'],\n",
      "      dtype='object')\n",
      "(330, 26)\n"
     ]
    }
   ],
   "source": [
    "print(data_ski_3.columns)\n",
    "print(data_ski_3.shape)"
   ]
  },
  {
   "cell_type": "code",
   "execution_count": 7,
   "metadata": {},
   "outputs": [],
   "source": [
    "sca = StandardScaler()\n",
    "sca.fit(x)\n",
    "x_scaled = sca.transform(x)\n",
    "y = y.ravel()"
   ]
  },
  {
   "cell_type": "code",
   "execution_count": 8,
   "metadata": {},
   "outputs": [],
   "source": [
    "x_train, x_test, y_train, y_test = train_test_split(x_scaled, y, test_size=0.25, random_state=1)"
   ]
  },
  {
   "cell_type": "code",
   "execution_count": 9,
   "metadata": {},
   "outputs": [
    {
     "data": {
      "text/plain": [
       "LinearRegression(copy_X=True, fit_intercept=True, n_jobs=None, normalize=False)"
      ]
     },
     "execution_count": 9,
     "metadata": {},
     "output_type": "execute_result"
    }
   ],
   "source": [
    "lm2 = linear_model.LinearRegression()\n",
    "model2 = lm2.fit(x_train, y_train)\n",
    "lm2"
   ]
  },
  {
   "cell_type": "code",
   "execution_count": 10,
   "metadata": {},
   "outputs": [
    {
     "name": "stdout",
     "output_type": "stream",
     "text": [
      "Mean abs error is 5.12\n",
      "Explained Variance is 0.93\n"
     ]
    }
   ],
   "source": [
    "y_pred = lm2.predict(x_test)\n",
    "print('Mean abs error is', '{:.2f}'.format(mean_absolute_error(y_pred, y_test)))\n",
    "print('Explained Variance is', '{:.2f}'.format(explained_variance_score(y_pred, y_test)))\n"
   ]
  },
  {
   "cell_type": "markdown",
   "metadata": {
    "colab_type": "text",
    "id": "GGizyeLZGUYz"
   },
   "source": [
    "## Review the results "
   ]
  },
  {
   "cell_type": "markdown",
   "metadata": {
    "colab_type": "text",
    "id": "4Lhu-qisGUY0"
   },
   "source": [
    "**<font color='teal'> Now, let's predict the Big Mountain Weekend price with our model in order to provide a recommendation to our managers on how to price the `AdultWeekend` lift ticket. First we need to find the row for Big Mountain resort in our data using string contains or string matching.</font>**"
   ]
  },
  {
   "cell_type": "code",
   "execution_count": 11,
   "metadata": {
    "colab": {},
    "colab_type": "code",
    "id": "YXnx_IuEGUY1"
   },
   "outputs": [],
   "source": [
    "#data_ski_2 =  pd.read_csv('C:\\\\Users\\\\gianl\\\\data\\\\step3_output_V2_outliners_included.csv')\n",
    "\n",
    "Big_Mountain = data_ski_3[data_ski_3['Name'].str.contains('Big Mountain')]\n",
    "\n",
    "Big_Mountain_x = Big_Mountain.drop(['Name','AdultWeekend', 'state', 'summit_elev'], axis =1)\n",
    "Big_Mountain_y = Big_Mountain['AdultWeekend']"
   ]
  },
  {
   "cell_type": "markdown",
   "metadata": {
    "colab_type": "text",
    "id": "83-jO9hPGUY4"
   },
   "source": [
    "**<font color='teal'> Prepare the Big Mountain resort data row as you did in the model fitting stage.</font>**"
   ]
  },
  {
   "cell_type": "code",
   "execution_count": 12,
   "metadata": {
    "colab": {},
    "colab_type": "code",
    "id": "oWH_q9YOGUY5"
   },
   "outputs": [],
   "source": [
    "Big_Mountain_x_s = sca.transform(Big_Mountain_x)\n",
    "Big_Mountain_y = Big_Mountain_y.ravel()"
   ]
  },
  {
   "cell_type": "markdown",
   "metadata": {
    "colab_type": "text",
    "id": "2BCFqZYBGUY9"
   },
   "source": [
    "**<font color='teal'> Predict the Big Mountain resort `Adult Weekend` price and print it out.</font>** This is our expected price to present to management. Based on our model given the characteristics of the resort in comparison to other ski resorts and their unique characteristics."
   ]
  },
  {
   "cell_type": "code",
   "execution_count": 13,
   "metadata": {
    "colab": {},
    "colab_type": "code",
    "id": "XebWxxTMGUY-"
   },
   "outputs": [
    {
     "name": "stdout",
     "output_type": "stream",
     "text": [
      "the predicted price of the Weekend lift ticket is 87.49\n"
     ]
    }
   ],
   "source": [
    "Big_Mountain_Adult_Weekend_pred = lm2.predict(Big_Mountain_x_s)\n",
    "print('the predicted price of the Weekend lift ticket is', '{:.2f}'.format(float(Big_Mountain_Adult_Weekend_pred)))"
   ]
  },
  {
   "cell_type": "markdown",
   "metadata": {
    "colab_type": "text",
    "id": "_5BvguMLGUZB"
   },
   "source": [
    "**<font color='teal'> Print the Big Mountain resort actual `Adult Weekend` price.</font>**"
   ]
  },
  {
   "cell_type": "code",
   "execution_count": 14,
   "metadata": {
    "colab": {},
    "colab_type": "code",
    "id": "WyxTHtL2GUZC"
   },
   "outputs": [
    {
     "name": "stdout",
     "output_type": "stream",
     "text": [
      "The current price of the weekend lift ticket is 81.0\n"
     ]
    }
   ],
   "source": [
    "print('The current price of the weekend lift ticket is', float(Big_Mountain_y))"
   ]
  },
  {
   "cell_type": "markdown",
   "metadata": {},
   "source": [
    "### Histogram of Weekend ticket price"
   ]
  },
  {
   "cell_type": "code",
   "execution_count": 16,
   "metadata": {},
   "outputs": [
    {
     "data": {
      "image/png": "[encoded data removed]",
      "text/plain": [
       "<Figure size 432x288 with 1 Axes>"
      ]
     },
     "metadata": {
      "needs_background": "light"
     },
     "output_type": "display_data"
    }
   ],
   "source": [
    "data_ski_3['AdultWeekend'].hist(bins = 15, grid = False, label = 'All Resorts (n=330)')\n",
    "plt.axvline(x=81, color = 'red', label = 'Big Mountain Resort')\n",
    "plt.title('Weekend lift ticket price')\n",
    "plt.legend()\n",
    "plt.savefig('figures/histweekend.tiff')"
   ]
  },
  {
   "cell_type": "markdown",
   "metadata": {},
   "source": [
    "# Predict Weekday adult ticket using model 2 "
   ]
  },
  {
   "cell_type": "code",
   "execution_count": 17,
   "metadata": {},
   "outputs": [
    {
     "data": {
      "image/png": "[encoded data removed]",
      "text/plain": [
       "<Figure size 432x288 with 1 Axes>"
      ]
     },
     "metadata": {
      "needs_background": "light"
     },
     "output_type": "display_data"
    }
   ],
   "source": [
    "data_ski_3['AdultWeekday'].hist(bins = 15, grid = False, label = 'All Resorts (n=330)')\n",
    "plt.axvline(x=81, color = 'red', label = 'Big Mountain Resort')\n",
    "plt.title('Weekday lift ticket price')\n",
    "plt.legend()\n",
    "plt.savefig('figures/histweekday.tiff')"
   ]
  },
  {
   "cell_type": "code",
   "execution_count": 28,
   "metadata": {
    "scrolled": true
   },
   "outputs": [
    {
     "name": "stdout",
     "output_type": "stream",
     "text": [
      "Index(['vertical_drop', 'trams', 'fastEight', 'fastSixes', 'fastQuads', 'quad',\n",
      "       'triple', 'double', 'surface', 'total_chairs', 'Runs', 'TerrainParks',\n",
      "       'LongestRun_mi', 'SkiableTerrain_ac', 'Snow Making_ac',\n",
      "       'daysOpenLastYear', 'yearsOpen', 'averageSnowfall', 'AdultWeekend',\n",
      "       'projectedDaysOpen', 'NightSkiing_ac', 'clusters'],\n",
      "      dtype='object')\n",
      "Model Mean Abs Error is 5.44\n",
      "Model Variance Explained Score is 0.91\n",
      "Prediction for weekday ticket is 75.93\n",
      "Weekday ticket is currently 81.0\n"
     ]
    }
   ],
   "source": [
    "data_ski_3= pd.read_csv('C:\\\\Users\\\\gianl\\\\data\\\\step3_output_V2_outliners_included.csv')\n",
    "\n",
    "x_wd = data_ski_3.drop(['Name','AdultWeekday', 'state', 'summit_elev'], axis =1)\n",
    "y_wd = data_ski_3['AdultWeekday']\n",
    "print(x_wd.columns)\n",
    "\n",
    "#Scaling\n",
    "sca_wd = StandardScaler().fit(x_wd)\n",
    "x_wd_scaled = sca_wd.transform(x_wd)\n",
    "y_wd = y_wd.ravel()\n",
    "\n",
    "#Split train/test\n",
    "x_wd_train, x_wd_test, y_wd_train, y_wd_test = train_test_split(x_wd_scaled, y_wd, test_size =0.25, random_state = 1)\n",
    "\n",
    "#Linear regression fit\n",
    "lm_wd = linear_model.LinearRegression()\n",
    "lm_wd.fit(x_wd_train, y_wd_train)\n",
    "\n",
    "#Predition of Weekday lift ticket \n",
    "y_wd_predict = lm_wd.predict(x_wd_test)\n",
    "print('Model Mean Abs Error is', '{:.2f}'.format(mean_absolute_error(y_wd_predict, y_wd_test)))\n",
    "print('Model Variance Explained Score is', '{:.2f}'.format(explained_variance_score(y_wd_predict, y_wd_test)))\n",
    "\n",
    "#Importarting data Mountain Resort Data \n",
    "Big_Mountain = data_ski_3[data_ski_3['Name'].str.contains('Big Mountain')]\n",
    "\n",
    "#Removing unimportant columns\n",
    "Big_Mountain_x = Big_Mountain.drop(['Name','AdultWeekday', 'state', 'summit_elev'], axis =1)\n",
    "\n",
    "#Extracting y(current ticket price)\n",
    "Big_Mountain_y = Big_Mountain['AdultWeekday'].ravel()\n",
    "#Scaling features for Mountain Resort Data \n",
    "Big_Mountain_x_scaled = sca_wd.transform(Big_Mountain_x)\n",
    "\n",
    "#Predicting weekday ticket price\n",
    "Big_Mountain_Adult_Weekend_pred = lm_wd.predict(Big_Mountain_x_scaled)\n",
    "#Predict weekday ticket price\n",
    "#Printing current ticket price \n",
    "print('Prediction for weekday ticket is', '{:.2f}'.format(float(Big_Mountain_Adult_Weekend_pred)))\n",
    "print('Weekday ticket is currently', float(Big_Mountain_y))\n",
    "\n"
   ]
  },
  {
   "cell_type": "code",
   "execution_count": 20,
   "metadata": {},
   "outputs": [
    {
     "name": "stdout",
     "output_type": "stream",
     "text": [
      "Index(['vertical_drop', 'trams', 'fastEight', 'fastSixes', 'fastQuads', 'quad',\n",
      "       'triple', 'double', 'surface', 'total_chairs', 'Runs', 'TerrainParks',\n",
      "       'LongestRun_mi', 'SkiableTerrain_ac', 'Snow Making_ac',\n",
      "       'daysOpenLastYear', 'yearsOpen', 'averageSnowfall', 'AdultWeekend',\n",
      "       'projectedDaysOpen', 'NightSkiing_ac', 'clusters'],\n",
      "      dtype='object')\n"
     ]
    }
   ],
   "source": [
    "print(x_wd.columns)"
   ]
  },
  {
   "cell_type": "markdown",
   "metadata": {
    "colab_type": "text",
    "id": "O0Yli8MXGUZH"
   },
   "source": [
    "**<font color='teal'> As part of reviewing the results it is an important step to generate figures to visualize the data story. We can use the clusters we added to our data frame to create scatter plots for visualizing the Adult Weekend values compared to other characteristics. Run the example below to get you started and build two or three more figures to include in your data story telling.</font>**"
   ]
  },
  {
   "cell_type": "code",
   "execution_count": 21,
   "metadata": {
    "colab": {},
    "colab_type": "code",
    "id": "xWtr873fGUZI"
   },
   "outputs": [
    {
     "data": {
      "text/plain": [
       "Text(0.5, 1.0, 'summit_elev by vertical_drop by cluster')"
      ]
     },
     "execution_count": 21,
     "metadata": {},
     "output_type": "execute_result"
    },
    {
     "data": {
      "image/png": "[encoded data removed]",
      "text/plain": [
       "<Figure size 432x288 with 1 Axes>"
      ]
     },
     "metadata": {
      "needs_background": "light"
     },
     "output_type": "display_data"
    }
   ],
   "source": [
    "plt.scatter(data_ski_3['summit_elev'], data_ski_3['vertical_drop'], c=data_ski_3['clusters'], s=50, cmap='viridis', label ='clusters')\n",
    "#plt.scatter(data_ski['summit_elev'], data_ski['vertical_drop'], c='black', s=100)\n",
    "plt.xlabel('summit_elev')\n",
    "plt.ylabel('vertical_drop')\n",
    "plt.title('summit_elev by vertical_drop by cluster')\n",
    "#plt.savefig('figures/fig1.png',bbox_inches='tight')"
   ]
  },
  {
   "cell_type": "markdown",
   "metadata": {
    "colab_type": "text",
    "id": "giLKE2WMGUZh"
   },
   "source": [
    "## Finalize Code"
   ]
  },
  {
   "cell_type": "markdown",
   "metadata": {
    "colab_type": "text",
    "id": "pps_ASHoGUZi"
   },
   "source": [
    " Making sure our code is well organized and easy to follow is an important step. This is the time where you need to review the notebooks and Python scripts you've created and clean them up so they are easy to follow and succinct in nature. Addtionally, we will also save our final model as a callable object using Pickle for future use in a data pipeline. Pickle is a module that serializes (and de-serializes) Python objects so that they can become executable objects like functions. It's used extensively in production environments where machine learning models are deployed on an industrial scale!**<font color='teal'> Run the example code below to save out your callable model. Notice that we save it in the models folder we created in our previous guided capstone step.</font>** "
   ]
  },
  {
   "cell_type": "code",
   "execution_count": 22,
   "metadata": {
    "colab": {},
    "colab_type": "code",
    "id": "X_h0tkt_GUZj"
   },
   "outputs": [
    {
     "data": {
      "text/plain": [
       "['C:/Users/gianl/models/regression_model.pkl']"
      ]
     },
     "execution_count": 22,
     "metadata": {},
     "output_type": "execute_result"
    }
   ],
   "source": [
    "#import pickle\n",
    "#s = pickle.dumps(lm2)\n",
    "from joblib import dump, load\n",
    "dump(lm2, 'C:/Users/gianl/models/regression_model.pkl') "
   ]
  },
  {
   "cell_type": "markdown",
   "metadata": {
    "colab_type": "text",
    "id": "MTVrVlerGUZn"
   },
   "source": [
    "## Finalize Documentation"
   ]
  },
  {
   "cell_type": "markdown",
   "metadata": {
    "colab_type": "text",
    "id": "thEMyu-DGUZo"
   },
   "source": [
    "For model documentation, we want to save the model performance metrics as well as the features included in the final model. You could also save the model perfomance metrics and coefficients fo the other models you tried in case you want to refer to them later. **<font color='teal'> Create a dataframe containing the coefficients and the model performance metrics and save it out as a csv file, then upload it to your github repository.</font>** "
   ]
  },
  {
   "cell_type": "code",
   "execution_count": 25,
   "metadata": {
    "colab": {},
    "colab_type": "code",
    "id": "278tnHLlGUZp"
   },
   "outputs": [],
   "source": [
    "MAE = [5.12, 5.44, 11.11]\n",
    "Var = [0.93, 0.91, 0.3]\n",
    "\n",
    "indd = ['Adult Weekend Lift Ticket', 'Adult Weekday Lift Ticket', 'Projected Days Open' ]\n",
    "\n",
    "results = pd.DataFrame({'Mean abs error': MAE, 'Explained Variance Score': Var}, index = indd)\n",
    "\n",
    "\n"
   ]
  },
  {
   "cell_type": "code",
   "execution_count": 26,
   "metadata": {
    "colab": {},
    "colab_type": "code",
    "id": "4CEOoBLFGUZr"
   },
   "outputs": [
    {
     "data": {
      "text/html": [
       "<div>\n",
       "<style scoped>\n",
       "    .dataframe tbody tr th:only-of-type {\n",
       "        vertical-align: middle;\n",
       "    }\n",
       "\n",
       "    .dataframe tbody tr th {\n",
       "        vertical-align: top;\n",
       "    }\n",
       "\n",
       "    .dataframe thead th {\n",
       "        text-align: right;\n",
       "    }\n",
       "</style>\n",
       "<table border=\"1\" class=\"dataframe\">\n",
       "  <thead>\n",
       "    <tr style=\"text-align: right;\">\n",
       "      <th></th>\n",
       "      <th>Mean abs error</th>\n",
       "      <th>Explained Variance Score</th>\n",
       "    </tr>\n",
       "  </thead>\n",
       "  <tbody>\n",
       "    <tr>\n",
       "      <th>Adult Weekend Lift Ticket</th>\n",
       "      <td>5.12</td>\n",
       "      <td>0.93</td>\n",
       "    </tr>\n",
       "    <tr>\n",
       "      <th>Adult Weekday Lift Ticket</th>\n",
       "      <td>5.44</td>\n",
       "      <td>0.91</td>\n",
       "    </tr>\n",
       "    <tr>\n",
       "      <th>Projected Days Open</th>\n",
       "      <td>11.11</td>\n",
       "      <td>0.30</td>\n",
       "    </tr>\n",
       "  </tbody>\n",
       "</table>\n",
       "</div>"
      ],
      "text/plain": [
       "                           Mean abs error  Explained Variance Score\n",
       "Adult Weekend Lift Ticket            5.12                      0.93\n",
       "Adult Weekday Lift Ticket            5.44                      0.91\n",
       "Projected Days Open                 11.11                      0.30"
      ]
     },
     "execution_count": 26,
     "metadata": {},
     "output_type": "execute_result"
    }
   ],
   "source": [
    "results"
   ]
  },
  {
   "cell_type": "code",
   "execution_count": 27,
   "metadata": {},
   "outputs": [],
   "source": [
    "results.to_csv('C:\\\\Users\\\\gianl\\\\data\\\\Result_table.csv', index = False)"
   ]
  },
  {
   "cell_type": "code",
   "execution_count": null,
   "metadata": {},
   "outputs": [],
   "source": []
  }
 ],
 "metadata": {
  "colab": {
   "collapsed_sections": [
    "RtEspslPZyGY",
    "s0DokMkAZyGc",
    "2iuitnKcZyHS",
    "iAWQxougZyHW",
    "ThMTimlBZyHZ",
    "QwZ-LkjXZyHt",
    "srtXEA3N4-Y9",
    "ChVreJupZyIA",
    "zDgSSsq1ZyID",
    "I3GYKWfi5Llg",
    "pmMvrhbI-viE",
    "ZXDPkW3UZyIX",
    "Dnc_vHQLZyId",
    "daJxuJ-dZyIg",
    "mAQ-oHiPZyIn",
    "hnGOsp3mZyIp"
   ],
   "name": "GuidedCapstoneStep6.ipynb",
   "provenance": [],
   "toc_visible": true
  },
  "kernelspec": {
   "display_name": "Python 3",
   "language": "python",
   "name": "python3"
  },
  "language_info": {
   "codemirror_mode": {
    "name": "ipython",
    "version": 3
   },
   "file_extension": ".py",
   "mimetype": "text/x-python",
   "name": "python",
   "nbconvert_exporter": "python",
   "pygments_lexer": "ipython3",
   "version": "3.7.6"
  },
  "toc": {
   "base_numbering": "0",
   "nav_menu": {},
   "number_sections": true,
   "sideBar": true,
   "skip_h1_title": false,
   "title_cell": "Table of Contents",
   "title_sidebar": "Contents",
   "toc_cell": true,
   "toc_position": {
    "height": "calc(100% - 180px)",
    "left": "10px",
    "top": "150px",
    "width": "288px"
   },
   "toc_section_display": true,
   "toc_window_display": true
  }
 },
 "nbformat": 4,
 "nbformat_minor": 1
}
